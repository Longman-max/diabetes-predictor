{
  "cells": [
    {
      "cell_type": "markdown",
      "id": "84853047",
      "metadata": {
        "id": "84853047"
      },
      "source": [
        "# Precious Kings\n",
        "## Project Title: Time Series Predictive Modeling Diabetes Progression and Health Risk Stratification Using Electronic Health Records"
      ]
    },
    {
      "cell_type": "code",
      "execution_count": 1,
      "id": "606615b4",
      "metadata": {
        "colab": {
          "base_uri": "https://localhost:8080/"
        },
        "id": "606615b4",
        "outputId": "7f1199a4-95af-4ce3-8537-801b78d8e9fc"
      },
      "outputs": [
        {
          "name": "stdout",
          "output_type": "stream",
          "text": [
            "Libraries imported successfully Precious\n"
          ]
        }
      ],
      "source": [
        "# Import necessary libraries\n",
        "import pandas as pd\n",
        "from sklearn.model_selection import train_test_split # Though we might not split for simplicity here\n",
        "from sklearn.ensemble import RandomForestClassifier # Import RandomForest\n",
        "from sklearn.preprocessing import StandardScaler     # For scaling features\n",
        "import pickle                                       # For saving the model and scaler\n",
        "import os                                           # To check if the file exists\n",
        "\n",
        "print(\"Libraries imported successfully Precious\")"
      ]
    },
    {
      "cell_type": "markdown",
      "id": "7bc7f5ca",
      "metadata": {
        "id": "7bc7f5ca"
      },
      "source": [
        "### Load dataset"
      ]
    },
    {
      "cell_type": "code",
      "execution_count": 2,
      "id": "01438b5e",
      "metadata": {
        "colab": {
          "base_uri": "https://localhost:8080/",
          "height": 325
        },
        "id": "01438b5e",
        "outputId": "374ef349-3834-4fd4-89af-eaeeef94db77"
      },
      "outputs": [
        {
          "data": {
            "text/html": [
              "<div>\n",
              "<style scoped>\n",
              "    .dataframe tbody tr th:only-of-type {\n",
              "        vertical-align: middle;\n",
              "    }\n",
              "\n",
              "    .dataframe tbody tr th {\n",
              "        vertical-align: top;\n",
              "    }\n",
              "\n",
              "    .dataframe thead th {\n",
              "        text-align: right;\n",
              "    }\n",
              "</style>\n",
              "<table border=\"1\" class=\"dataframe\">\n",
              "  <thead>\n",
              "    <tr style=\"text-align: right;\">\n",
              "      <th></th>\n",
              "      <th>Age</th>\n",
              "      <th>Gender</th>\n",
              "      <th>BMI</th>\n",
              "      <th>Family_History</th>\n",
              "      <th>Physical_Activity</th>\n",
              "      <th>Diet_Type</th>\n",
              "      <th>Smoking_Status</th>\n",
              "      <th>Alcohol_Intake</th>\n",
              "      <th>Stress_Level</th>\n",
              "      <th>Hypertension</th>\n",
              "      <th>...</th>\n",
              "      <th>Health_Insurance</th>\n",
              "      <th>Regular_Checkups</th>\n",
              "      <th>Medication_For_Chronic_Conditions</th>\n",
              "      <th>Pregnancies</th>\n",
              "      <th>Polycystic_Ovary_Syndrome</th>\n",
              "      <th>Glucose_Tolerance_Test_Result</th>\n",
              "      <th>Vitamin_D_Level</th>\n",
              "      <th>C_Protein_Level</th>\n",
              "      <th>Thyroid_Condition</th>\n",
              "      <th>Diabetes_Status</th>\n",
              "    </tr>\n",
              "  </thead>\n",
              "  <tbody>\n",
              "    <tr>\n",
              "      <th>0</th>\n",
              "      <td>48</td>\n",
              "      <td>Male</td>\n",
              "      <td>35.5</td>\n",
              "      <td>No</td>\n",
              "      <td>High</td>\n",
              "      <td>Non-Vegetarian</td>\n",
              "      <td>Never</td>\n",
              "      <td>NaN</td>\n",
              "      <td>Medium</td>\n",
              "      <td>Yes</td>\n",
              "      <td>...</td>\n",
              "      <td>No</td>\n",
              "      <td>No</td>\n",
              "      <td>No</td>\n",
              "      <td>0</td>\n",
              "      <td>0</td>\n",
              "      <td>124.3</td>\n",
              "      <td>31.5</td>\n",
              "      <td>7.46</td>\n",
              "      <td>Yes</td>\n",
              "      <td>Yes</td>\n",
              "    </tr>\n",
              "    <tr>\n",
              "      <th>1</th>\n",
              "      <td>18</td>\n",
              "      <td>Other</td>\n",
              "      <td>28.7</td>\n",
              "      <td>Yes</td>\n",
              "      <td>Medium</td>\n",
              "      <td>Non-Vegetarian</td>\n",
              "      <td>Current</td>\n",
              "      <td>Moderate</td>\n",
              "      <td>High</td>\n",
              "      <td>No</td>\n",
              "      <td>...</td>\n",
              "      <td>Yes</td>\n",
              "      <td>Yes</td>\n",
              "      <td>No</td>\n",
              "      <td>0</td>\n",
              "      <td>0</td>\n",
              "      <td>151.4</td>\n",
              "      <td>12.5</td>\n",
              "      <td>5.64</td>\n",
              "      <td>Yes</td>\n",
              "      <td>No</td>\n",
              "    </tr>\n",
              "    <tr>\n",
              "      <th>2</th>\n",
              "      <td>21</td>\n",
              "      <td>Other</td>\n",
              "      <td>30.0</td>\n",
              "      <td>Yes</td>\n",
              "      <td>High</td>\n",
              "      <td>Non-Vegetarian</td>\n",
              "      <td>Current</td>\n",
              "      <td>Moderate</td>\n",
              "      <td>High</td>\n",
              "      <td>Yes</td>\n",
              "      <td>...</td>\n",
              "      <td>No</td>\n",
              "      <td>No</td>\n",
              "      <td>Yes</td>\n",
              "      <td>0</td>\n",
              "      <td>0</td>\n",
              "      <td>106.1</td>\n",
              "      <td>35.8</td>\n",
              "      <td>7.20</td>\n",
              "      <td>No</td>\n",
              "      <td>Yes</td>\n",
              "    </tr>\n",
              "    <tr>\n",
              "      <th>3</th>\n",
              "      <td>25</td>\n",
              "      <td>Female</td>\n",
              "      <td>25.6</td>\n",
              "      <td>No</td>\n",
              "      <td>Medium</td>\n",
              "      <td>Vegetarian</td>\n",
              "      <td>Former</td>\n",
              "      <td>Moderate</td>\n",
              "      <td>High</td>\n",
              "      <td>Yes</td>\n",
              "      <td>...</td>\n",
              "      <td>No</td>\n",
              "      <td>No</td>\n",
              "      <td>Yes</td>\n",
              "      <td>1</td>\n",
              "      <td>No</td>\n",
              "      <td>85.6</td>\n",
              "      <td>15.4</td>\n",
              "      <td>6.53</td>\n",
              "      <td>Yes</td>\n",
              "      <td>No</td>\n",
              "    </tr>\n",
              "    <tr>\n",
              "      <th>4</th>\n",
              "      <td>78</td>\n",
              "      <td>Male</td>\n",
              "      <td>38.8</td>\n",
              "      <td>No</td>\n",
              "      <td>High</td>\n",
              "      <td>Non-Vegetarian</td>\n",
              "      <td>Current</td>\n",
              "      <td>High</td>\n",
              "      <td>High</td>\n",
              "      <td>No</td>\n",
              "      <td>...</td>\n",
              "      <td>No</td>\n",
              "      <td>No</td>\n",
              "      <td>Yes</td>\n",
              "      <td>0</td>\n",
              "      <td>0</td>\n",
              "      <td>77.0</td>\n",
              "      <td>28.6</td>\n",
              "      <td>0.58</td>\n",
              "      <td>No</td>\n",
              "      <td>Yes</td>\n",
              "    </tr>\n",
              "  </tbody>\n",
              "</table>\n",
              "<p>5 rows × 27 columns</p>\n",
              "</div>"
            ],
            "text/plain": [
              "   Age  Gender   BMI Family_History Physical_Activity       Diet_Type  \\\n",
              "0   48    Male  35.5             No              High  Non-Vegetarian   \n",
              "1   18   Other  28.7            Yes            Medium  Non-Vegetarian   \n",
              "2   21   Other  30.0            Yes              High  Non-Vegetarian   \n",
              "3   25  Female  25.6             No            Medium      Vegetarian   \n",
              "4   78    Male  38.8             No              High  Non-Vegetarian   \n",
              "\n",
              "  Smoking_Status Alcohol_Intake Stress_Level Hypertension  ...  \\\n",
              "0          Never            NaN       Medium          Yes  ...   \n",
              "1        Current       Moderate         High           No  ...   \n",
              "2        Current       Moderate         High          Yes  ...   \n",
              "3         Former       Moderate         High          Yes  ...   \n",
              "4        Current           High         High           No  ...   \n",
              "\n",
              "   Health_Insurance  Regular_Checkups  Medication_For_Chronic_Conditions  \\\n",
              "0                No                No                                 No   \n",
              "1               Yes               Yes                                 No   \n",
              "2                No                No                                Yes   \n",
              "3                No                No                                Yes   \n",
              "4                No                No                                Yes   \n",
              "\n",
              "   Pregnancies  Polycystic_Ovary_Syndrome  Glucose_Tolerance_Test_Result  \\\n",
              "0            0                          0                          124.3   \n",
              "1            0                          0                          151.4   \n",
              "2            0                          0                          106.1   \n",
              "3            1                         No                           85.6   \n",
              "4            0                          0                           77.0   \n",
              "\n",
              "  Vitamin_D_Level C_Protein_Level Thyroid_Condition Diabetes_Status  \n",
              "0            31.5            7.46               Yes             Yes  \n",
              "1            12.5            5.64               Yes              No  \n",
              "2            35.8            7.20                No             Yes  \n",
              "3            15.4            6.53               Yes              No  \n",
              "4            28.6            0.58                No             Yes  \n",
              "\n",
              "[5 rows x 27 columns]"
            ]
          },
          "metadata": {},
          "output_type": "display_data"
        },
        {
          "name": "stdout",
          "output_type": "stream",
          "text": [
            "Columns in dataset: ['Age', 'Gender', 'BMI', 'Family_History', 'Physical_Activity', 'Diet_Type', 'Smoking_Status', 'Alcohol_Intake', 'Stress_Level', 'Hypertension', 'Cholesterol_Level', 'Fasting_Blood_Sugar', 'Postprandial_Blood_Sugar', 'HBA1C', 'Heart_Rate', 'Waist_Hip_Ratio', 'Urban_Rural', 'Health_Insurance', 'Regular_Checkups', 'Medication_For_Chronic_Conditions', 'Pregnancies', 'Polycystic_Ovary_Syndrome', 'Glucose_Tolerance_Test_Result', 'Vitamin_D_Level', 'C_Protein_Level', 'Thyroid_Condition', 'Diabetes_Status']\n"
          ]
        }
      ],
      "source": [
        "# Load the dataset\n",
        "data = pd.read_csv('diabetes_dataset.csv')\n",
        "display(data.head())\n",
        "print('Columns in dataset:', list(data.columns))"
      ]
    },
    {
      "cell_type": "markdown",
      "id": "a24e2d0c",
      "metadata": {
        "id": "a24e2d0c"
      },
      "source": [
        "###  Define Features (X) and Target (y)"
      ]
    },
    {
      "cell_type": "code",
      "execution_count": 3,
      "id": "4b87169c",
      "metadata": {
        "id": "4b87169c"
      },
      "outputs": [
        {
          "name": "stdout",
          "output_type": "stream",
          "text": [
            "Missing feature columns in data: ['Blood Glucose', 'Blood Pressure', 'HbA1c', 'Insulin Level', 'Skin thickness', 'Family history', 'Physical Activity', 'Smoking status', 'Alcohol Intake', 'Diet Qualtiy', 'Cholesterol', 'Triglycerides', 'Waiste ratio']\n",
            "Missing target column in data: Outcome\n",
            "Please check your column names above and update feature_cols and target_col to match exactly.\n"
          ]
        }
      ],
      "source": [
        "# Define the list of feature column names\n",
        "# Make sure these match your CSV column names EXACTLY!\n",
        "feature_cols = ['Age', 'BMI', 'Blood Glucose', 'Blood Pressure', 'HbA1c', 'Insulin Level', 'Skin thickness', 'Pregnancies', 'Family history', 'Physical Activity', 'Smoking status', 'Alcohol Intake', 'Diet Qualtiy', 'Cholesterol', 'Triglycerides', 'Waiste ratio']\n",
        "target_col = 'Outcome' # Assuming 'Outcome' is still the target column\n",
        "\n",
        "# Check for missing columns before selecting\n",
        "missing_features = [col for col in feature_cols if col not in data.columns]\n",
        "missing_target = target_col not in data.columns\n",
        "\n",
        "if missing_features:\n",
        "    print(f\"Missing feature columns in data: {missing_features}\")\n",
        "if missing_target:\n",
        "    print(f\"Missing target column in data: {target_col}\")\n",
        "\n",
        "if not missing_features and not missing_target:\n",
        "    # Create the features DataFrame (X)\n",
        "    # Using .get() with a default empty list to handle missing columns\n",
        "    X = data[[col for col in feature_cols if col in data.columns]]\n",
        "\n",
        "    # Create the target Series (y)\n",
        "    y = data[target_col]\n",
        "\n",
        "    print(\"Features (X) and Target (y) defined.\")\n",
        "    print(f\"Shape of X: {X.shape}\")\n",
        "    print(f\"Shape of y: {y.shape}\")\n",
        "else:\n",
        "    print(\"Please check your column names above and update feature_cols and target_col to match exactly.\")"
      ]
    },
    {
      "cell_type": "markdown",
      "id": "eceb9ccb",
      "metadata": {
        "id": "eceb9ccb"
      },
      "source": [
        "###  Preprocess Data: Feature Scaling"
      ]
    },
    {
      "cell_type": "code",
      "execution_count": 4,
      "id": "c0eac683",
      "metadata": {
        "id": "c0eac683"
      },
      "outputs": [
        {
          "name": "stdout",
          "output_type": "stream",
          "text": [
            "Error: 'X' is not defined. Please run the cell that defines your features (X) and target (y) before this step.\n"
          ]
        }
      ],
      "source": [
        "# Initialize the StandardScaler\n",
        "scaler = StandardScaler()\n",
        "\n",
        "# Check if X is defined before scaling\n",
        "if 'X' in globals():\n",
        "    # Fit the scaler to the features (X) and transform X\n",
        "    X_scaled = scaler.fit_transform(X)\n",
        "    print(\"Features scaled using StandardScaler.\")\n",
        "    # Optionally convert X_scaled back to a DataFrame to view it nicely\n",
        "    # X_scaled_df = pd.DataFrame(X_scaled, columns=feature_cols)\n",
        "    # print(\"\\nFirst 5 rows of scaled features:\")\n",
        "    # print(X_scaled_df.head())\n",
        "    print(\"\\nScaler is fitted and ready to be saved.\")\n",
        "else:\n",
        "    print(\"Error: 'X' is not defined. Please run the cell that defines your features (X) and target (y) before this step.\")"
      ]
    },
    {
      "cell_type": "markdown",
      "id": "5cf8abdf",
      "metadata": {
        "id": "5cf8abdf"
      },
      "source": [
        "### Train the Random Forest Model"
      ]
    },
    {
      "cell_type": "code",
      "execution_count": 5,
      "id": "0e51bfaf",
      "metadata": {
        "id": "0e51bfaf"
      },
      "outputs": [
        {
          "name": "stdout",
          "output_type": "stream",
          "text": [
            "Error: X_scaled or y is not defined. Please ensure previous cells ran successfully and column names match your data.\n"
          ]
        }
      ],
      "source": [
        "# Initialize the Random Forest Classifier model\n",
        "# n_estimators is the number of trees in the forest\n",
        "model = RandomForestClassifier(n_estimators=100, random_state=42) # random_state for reproducibility\n",
        "\n",
        "# Train the model only if X_scaled and y are defined\n",
        "if 'X_scaled' in globals() and 'y' in globals():\n",
        "    model.fit(X_scaled, y)\n",
        "    print(\"Random Forest Classifier model trained successfully!\")\n",
        "else:\n",
        "    print(\"Error: X_scaled or y is not defined. Please ensure previous cells ran successfully and column names match your data.\")"
      ]
    },
    {
      "cell_type": "markdown",
      "id": "d45ad5ce",
      "metadata": {
        "id": "d45ad5ce"
      },
      "source": [
        "### Save the Model and Scaler"
      ]
    },
    {
      "cell_type": "code",
      "execution_count": 6,
      "id": "2fadce1c",
      "metadata": {
        "id": "2fadce1c"
      },
      "outputs": [
        {
          "name": "stdout",
          "output_type": "stream",
          "text": [
            "Model saved successfully as 'diabetes_rf_model.pkl'\n",
            "Scaler saved successfully as 'scaler.pkl'\n"
          ]
        }
      ],
      "source": [
        "# Define filenames for the saved files\n",
        "model_filename = 'diabetes_rf_model.pkl' # Updated filename\n",
        "scaler_filename = 'scaler.pkl'\n",
        "\n",
        "# Save the trained model\n",
        "with open(model_filename, 'wb') as model_file:\n",
        "    pickle.dump(model, model_file)\n",
        "print(f\"Model saved successfully as '{model_filename}'\")\n",
        "\n",
        "# Save the fitted scaler\n",
        "with open(scaler_filename, 'wb') as scaler_file:\n",
        "    pickle.dump(scaler, scaler_file)\n",
        "print(f\"Scaler saved successfully as '{scaler_filename}'\")"
      ]
    },
    {
      "cell_type": "markdown",
      "id": "648af465",
      "metadata": {
        "id": "648af465"
      },
      "source": [
        "### Predict the model"
      ]
    },
    {
      "cell_type": "code",
      "execution_count": 7,
      "id": "aabcce30",
      "metadata": {
        "id": "aabcce30"
      },
      "outputs": [
        {
          "name": "stdout",
          "output_type": "stream",
          "text": [
            "Prediction error: name 'X_scaled' is not defined\n",
            "Make sure the model has been trained (fit) before calling predict. Run the training cell above and check for errors.\n"
          ]
        }
      ],
      "source": [
        "# Make predictions using the trained model\n",
        "try:\n",
        "    predictions = model.predict(X_scaled)\n",
        "    # Display the first 10 predictions\n",
        "    print(\"First 10 predictions:\", predictions[:10])\n",
        "except Exception as e:\n",
        "    print(f\"Prediction error: {e}\\nMake sure the model has been trained (fit) before calling predict. Run the training cell above and check for errors.\")"
      ]
    },
    {
      "cell_type": "markdown",
      "id": "42a7610a",
      "metadata": {
        "id": "42a7610a"
      },
      "source": [
        "### Calculate the F1 Score"
      ]
    },
    {
      "cell_type": "code",
      "execution_count": 8,
      "id": "c9343287",
      "metadata": {
        "id": "c9343287"
      },
      "outputs": [
        {
          "name": "stdout",
          "output_type": "stream",
          "text": [
            "Error: y or predictions is not defined. Please ensure previous cells ran successfully and the model was trained and used for prediction.\n"
          ]
        }
      ],
      "source": [
        "# Import the f1_score function\n",
        "from sklearn.metrics import f1_score\n",
        "\n",
        "# Calculate the F1 score only if y and predictions are defined\n",
        "if 'y' in globals() and 'predictions' in globals():\n",
        "    try:\n",
        "        f1 = f1_score(y, predictions)\n",
        "        # Display the F1 score\n",
        "        print(f'F1 Score: {f1:.2f}')\n",
        "    except ValueError as ve:\n",
        "        print(f\"ValueError: {ve}\\nCheck that y and predictions have the same length and are both defined. If you changed the number of features or retrained the model, make sure you reran all previous cells and that your scaler/model files are up to date.\")\n",
        "else:\n",
        "    print(\"Error: y or predictions is not defined. Please ensure previous cells ran successfully and the model was trained and used for prediction.\")"
      ]
    },
    {
      "cell_type": "markdown",
      "id": "bd573bcd",
      "metadata": {},
      "source": [
        "# Save the fitted scaler using joblib (do not overwrite scaler.pkl)\n",
        "This cell saves the fitted StandardScaler to a separate file (`scaler_joblib.pkl`) to avoid interfering with the main app's scaler."
      ]
    },
    {
      "cell_type": "code",
      "execution_count": null,
      "id": "aeb0aa70",
      "metadata": {},
      "outputs": [],
      "source": [
        "import joblib\n",
        "\n",
        "# Assuming `scaler` is your fitted StandardScaler object\n",
        "joblib.dump(scaler, 'scaler_joblib.pkl')\n",
        "print(\"Scaler saved as scaler_joblib.pkl (joblib format).\")"
      ]
    }
  ],
  "metadata": {
    "colab": {
      "provenance": []
    },
    "kernelspec": {
      "display_name": "Python 3",
      "language": "python",
      "name": "python3"
    },
    "language_info": {
      "codemirror_mode": {
        "name": "ipython",
        "version": 3
      },
      "file_extension": ".py",
      "mimetype": "text/x-python",
      "name": "python",
      "nbconvert_exporter": "python",
      "pygments_lexer": "ipython3",
      "version": "3.13.0"
    }
  },
  "nbformat": 4,
  "nbformat_minor": 5
}
